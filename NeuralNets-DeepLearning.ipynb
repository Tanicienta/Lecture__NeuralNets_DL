{
 "cells": [
  {
   "cell_type": "markdown",
   "metadata": {},
   "source": [
    "# Neural Nets and Deep Learning\n",
    "#### Slides:\n",
    "http://bit.ly/NeuralNets_Dojo_ML"
   ]
  },
  {
   "cell_type": "markdown",
   "metadata": {},
   "source": [
    "## 1. Installation Section\n",
    "### 1.1 TensorFlow "
   ]
  },
  {
   "cell_type": "code",
   "execution_count": 1,
   "metadata": {},
   "outputs": [
    {
     "name": "stdout",
     "output_type": "stream",
     "text": [
      "pip 9.0.1 from /opt/conda/lib/python3.6/site-packages (python 3.6)\n"
     ]
    }
   ],
   "source": [
    "%%sh\n",
    "pip -V"
   ]
  },
  {
   "cell_type": "code",
   "execution_count": 4,
   "metadata": {},
   "outputs": [
    {
     "name": "stdout",
     "output_type": "stream",
     "text": [
      "Searching for pip\n",
      "Reading https://pypi.python.org/simple/pip/\n",
      "Downloading https://pypi.python.org/packages/11/b6/abcb525026a4be042b486df43905d6893fb04f05aac21c32c638e939e447/pip-9.0.1.tar.gz#md5=35f01da33009719497f01a4ba69d63c9\n",
      "Best match: pip 9.0.1\n",
      "Processing pip-9.0.1.tar.gz\n",
      "Writing /tmp/easy_install-rvf4fbdn/pip-9.0.1/setup.cfg\n",
      "Running pip-9.0.1/setup.py -q bdist_egg --dist-dir /tmp/easy_install-rvf4fbdn/pip-9.0.1/egg-dist-tmp-3z2gqi1e\n",
      "creating /opt/conda/lib/python3.6/site-packages/pip-9.0.1-py3.6.egg\n",
      "Extracting pip-9.0.1-py3.6.egg to /opt/conda/lib/python3.6/site-packages\n",
      "Adding pip 9.0.1 to easy-install.pth file\n",
      "Installing pip script to /opt/conda/bin\n",
      "Installing pip3 script to /opt/conda/bin\n",
      "Installing pip3.6 script to /opt/conda/bin\n",
      "\n",
      "Installed /opt/conda/lib/python3.6/site-packages/pip-9.0.1-py3.6.egg\n",
      "Processing dependencies for pip\n",
      "Finished processing dependencies for pip\n",
      "Searching for six\n",
      "Reading https://pypi.python.org/simple/six/\n",
      "Downloading https://pypi.python.org/packages/b3/b2/238e2590826bfdd113244a40d9d3eb26918bd798fc187e2360a8367068db/six-1.10.0.tar.gz#md5=34eed507548117b2ab523ab14b2f8b55\n",
      "Best match: six 1.10.0\n",
      "Processing six-1.10.0.tar.gz\n",
      "Writing /tmp/easy_install-m6_8nenx/six-1.10.0/setup.cfg\n",
      "Running six-1.10.0/setup.py -q bdist_egg --dist-dir /tmp/easy_install-m6_8nenx/six-1.10.0/egg-dist-tmp-rv0630t2\n",
      "creating /opt/conda/lib/python3.6/site-packages/six-1.10.0-py3.6.egg\n",
      "Extracting six-1.10.0-py3.6.egg to /opt/conda/lib/python3.6/site-packages\n",
      "Adding six 1.10.0 to easy-install.pth file\n",
      "\n",
      "Installed /opt/conda/lib/python3.6/site-packages/six-1.10.0-py3.6.egg\n",
      "Processing dependencies for six\n",
      "Finished processing dependencies for six\n"
     ]
    },
    {
     "name": "stderr",
     "output_type": "stream",
     "text": [
      "warning: no previously-included files found matching '.coveragerc'\n",
      "warning: no previously-included files found matching '.mailmap'\n",
      "warning: no previously-included files found matching '.travis.yml'\n",
      "warning: no previously-included files found matching '.landscape.yml'\n",
      "warning: no previously-included files found matching 'pip/_vendor/Makefile'\n",
      "warning: no previously-included files found matching 'tox.ini'\n",
      "warning: no previously-included files found matching 'dev-requirements.txt'\n",
      "warning: no previously-included files found matching 'appveyor.yml'\n",
      "no previously-included directories found matching '.github'\n",
      "no previously-included directories found matching '.travis'\n",
      "no previously-included directories found matching 'docs/_build'\n",
      "no previously-included directories found matching 'contrib'\n",
      "no previously-included directories found matching 'tasks'\n",
      "no previously-included directories found matching 'tests'\n",
      "no previously-included directories found matching 'documentation/_build'\n",
      "zip_safe flag not set; analyzing archive contents...\n",
      "__pycache__.six.cpython-36: module references __path__\n"
     ]
    }
   ],
   "source": [
    "%%sh\n",
    "# easy_install --upgrade pip\n",
    "# easy_install --upgrade six "
   ]
  },
  {
   "cell_type": "code",
   "execution_count": 7,
   "metadata": {},
   "outputs": [
    {
     "name": "stdout",
     "output_type": "stream",
     "text": [
      "Collecting tensorflow\n",
      "  Downloading tensorflow-1.3.0-cp36-cp36m-manylinux1_x86_64.whl (43.5MB)\n",
      "Requirement already satisfied: wheel>=0.26 in /opt/conda/lib/python3.6/site-packages (from tensorflow)\n",
      "Requirement already satisfied: six>=1.10.0 in /opt/conda/lib/python3.6/site-packages (from tensorflow)\n",
      "Collecting tensorflow-tensorboard<0.2.0,>=0.1.0 (from tensorflow)\n",
      "  Downloading tensorflow_tensorboard-0.1.5-py3-none-any.whl (2.2MB)\n",
      "Collecting protobuf>=3.3.0 (from tensorflow)\n",
      "  Downloading protobuf-3.4.0-cp36-cp36m-manylinux1_x86_64.whl (6.2MB)\n",
      "Collecting numpy>=1.11.0 (from tensorflow)\n",
      "  Downloading numpy-1.13.1-cp36-cp36m-manylinux1_x86_64.whl (17.0MB)\n",
      "Collecting werkzeug>=0.11.10 (from tensorflow-tensorboard<0.2.0,>=0.1.0->tensorflow)\n",
      "  Downloading Werkzeug-0.12.2-py2.py3-none-any.whl (312kB)\n",
      "Requirement already satisfied: bleach==1.5.0 in /opt/conda/lib/python3.6/site-packages (from tensorflow-tensorboard<0.2.0,>=0.1.0->tensorflow)\n",
      "Requirement already satisfied: html5lib==0.9999999 in /opt/conda/lib/python3.6/site-packages (from tensorflow-tensorboard<0.2.0,>=0.1.0->tensorflow)\n",
      "Collecting markdown>=2.6.8 (from tensorflow-tensorboard<0.2.0,>=0.1.0->tensorflow)\n",
      "  Downloading Markdown-2.6.9.tar.gz (271kB)\n",
      "Requirement already satisfied: setuptools in /opt/conda/lib/python3.6/site-packages/setuptools-27.2.0-py3.6.egg (from protobuf>=3.3.0->tensorflow)\n",
      "Building wheels for collected packages: markdown\n",
      "  Running setup.py bdist_wheel for markdown: started\n",
      "  Running setup.py bdist_wheel for markdown: finished with status 'done'\n",
      "  Stored in directory: /root/.cache/pip/wheels/bf/46/10/c93e17ae86ae3b3a919c7b39dad3b5ccf09aeb066419e5c1e5\n",
      "Successfully built markdown\n",
      "Installing collected packages: werkzeug, protobuf, markdown, numpy, tensorflow-tensorboard, tensorflow\n",
      "Successfully installed markdown-2.6.9 numpy-1.13.1 protobuf-3.4.0 tensorflow-1.3.0 tensorflow-tensorboard-0.1.5 werkzeug-0.12.2\n"
     ]
    }
   ],
   "source": [
    "%%sh\n",
    "pip install tensorflow"
   ]
  },
  {
   "cell_type": "code",
   "execution_count": 8,
   "metadata": {},
   "outputs": [
    {
     "name": "stdout",
     "output_type": "stream",
     "text": [
      "b'Hello, TensorFlow!'\n"
     ]
    }
   ],
   "source": [
    "#Validate your Installation\n",
    "import tensorflow as tf\n",
    "hello = tf.constant('Hello, TensorFlow!')\n",
    "sess = tf.Session()\n",
    "print(sess.run(hello))\n"
   ]
  },
  {
   "cell_type": "markdown",
   "metadata": {},
   "source": [
    "### 1.2 Keras"
   ]
  },
  {
   "cell_type": "code",
   "execution_count": 10,
   "metadata": {},
   "outputs": [
    {
     "name": "stdout",
     "output_type": "stream",
     "text": [
      "Collecting keras\n",
      "  Downloading Keras-2.0.8-py2.py3-none-any.whl (276kB)\n",
      "Collecting pyyaml (from keras)\n",
      "  Downloading PyYAML-3.12.tar.gz (253kB)\n",
      "Collecting scipy>=0.14 (from keras)\n",
      "  Downloading scipy-0.19.1-cp36-cp36m-manylinux1_x86_64.whl (48.2MB)\n",
      "Requirement already satisfied: six>=1.9.0 in /opt/conda/lib/python3.6/site-packages (from keras)\n",
      "Requirement already satisfied: numpy>=1.9.1 in /opt/conda/lib/python3.6/site-packages (from keras)\n",
      "Building wheels for collected packages: pyyaml\n",
      "  Running setup.py bdist_wheel for pyyaml: started\n",
      "  Running setup.py bdist_wheel for pyyaml: finished with status 'done'\n",
      "  Stored in directory: /root/.cache/pip/wheels/2c/f7/79/13f3a12cd723892437c0cfbde1230ab4d82947ff7b3839a4fc\n",
      "Successfully built pyyaml\n",
      "Installing collected packages: pyyaml, scipy, keras\n",
      "Successfully installed keras-2.0.8 pyyaml-3.12 scipy-0.19.1\n"
     ]
    }
   ],
   "source": [
    "%%sh\n",
    "pip install keras"
   ]
  },
  {
   "cell_type": "code",
   "execution_count": null,
   "metadata": {
    "collapsed": true
   },
   "outputs": [],
   "source": [
    "# By default, Keras will use TensorFlow as its tensor manipulation library :) "
   ]
  },
  {
   "cell_type": "markdown",
   "metadata": {},
   "source": [
    "### 1.3 scikit learn"
   ]
  },
  {
   "cell_type": "code",
   "execution_count": 41,
   "metadata": {},
   "outputs": [
    {
     "name": "stdout",
     "output_type": "stream",
     "text": [
      "Requirement already satisfied: sklearn in /opt/conda/lib/python3.6/site-packages\n",
      "Requirement already satisfied: scikit-learn in /opt/conda/lib/python3.6/site-packages (from sklearn)\n"
     ]
    }
   ],
   "source": [
    "%%sh\n",
    "pip install sklearn"
   ]
  },
  {
   "cell_type": "markdown",
   "metadata": {},
   "source": [
    "### 1.4 matplotlib"
   ]
  },
  {
   "cell_type": "code",
   "execution_count": 66,
   "metadata": {},
   "outputs": [
    {
     "name": "stdout",
     "output_type": "stream",
     "text": [
      "Collecting matplotlib\n",
      "  Downloading matplotlib-2.0.2-cp36-cp36m-manylinux1_x86_64.whl (14.6MB)\n",
      "Requirement already satisfied: python-dateutil in /opt/conda/lib/python3.6/site-packages (from matplotlib)\n",
      "Collecting pytz (from matplotlib)\n",
      "  Downloading pytz-2017.2-py2.py3-none-any.whl (484kB)\n",
      "Collecting cycler>=0.10 (from matplotlib)\n",
      "  Downloading cycler-0.10.0-py2.py3-none-any.whl\n",
      "Requirement already satisfied: numpy>=1.7.1 in /opt/conda/lib/python3.6/site-packages (from matplotlib)\n",
      "Requirement already satisfied: pyparsing!=2.0.0,!=2.0.4,!=2.1.2,!=2.1.6,>=1.5.6 in /opt/conda/lib/python3.6/site-packages (from matplotlib)\n",
      "Requirement already satisfied: six>=1.10 in /opt/conda/lib/python3.6/site-packages (from matplotlib)\n",
      "Installing collected packages: pytz, cycler, matplotlib\n",
      "Successfully installed cycler-0.10.0 matplotlib-2.0.2 pytz-2017.2\n"
     ]
    }
   ],
   "source": [
    "%%sh\n",
    "pip install matplotlib"
   ]
  },
  {
   "cell_type": "markdown",
   "metadata": {},
   "source": [
    "## 2. Neural Nets Examples\n",
    "### 2.1 Diabetes - Pima Dataset"
   ]
  },
  {
   "cell_type": "markdown",
   "metadata": {},
   "source": [
    "Dataset Description:"
   ]
  },
  {
   "cell_type": "markdown",
   "metadata": {},
   "source": [
    "5. Number of Instances: 768\n",
    "\n",
    "6. Number of Attributes: 8 plus class \n",
    "\n",
    "7. For Each Attribute: (all numeric-valued)\n",
    "   1. Number of times pregnant\n",
    "   2. Plasma glucose concentration a 2 hours in an oral glucose tolerance test\n",
    "   3. Diastolic blood pressure (mm Hg)\n",
    "   4. Triceps skin fold thickness (mm)\n",
    "   5. 2-Hour serum insulin (mu U/ml)\n",
    "   6. Body mass index (weight in kg/(height in m)^2)\n",
    "   7. Diabetes pedigree function\n",
    "   8. Age (years)\n",
    "   9. Class variable (0 or 1)\n",
    "\n",
    "8. Missing Attribute Values: Yes\n",
    "\n",
    "9. Class Distribution: (class value 1 is interpreted as \"tested positive for\n",
    "   diabetes\")\n",
    "\n",
    "   Class Value  Number of instances\n",
    "   0            500\n",
    "   1            268\n"
   ]
  },
  {
   "cell_type": "code",
   "execution_count": 1,
   "metadata": {
    "collapsed": true
   },
   "outputs": [],
   "source": [
    "seed = 10"
   ]
  },
  {
   "cell_type": "markdown",
   "metadata": {},
   "source": [
    "(=>) Download the dataset from this url and save the file as \"pima.csv\"\n",
    "http://archive.ics.uci.edu/ml/machine-learning-databases/pima-indians-diabetes/pima-indians-diabetes.data"
   ]
  },
  {
   "cell_type": "code",
   "execution_count": 2,
   "metadata": {},
   "outputs": [
    {
     "name": "stderr",
     "output_type": "stream",
     "text": [
      "Using TensorFlow backend.\n"
     ]
    }
   ],
   "source": [
    "from keras.models import Sequential\n",
    "from keras.layers import Dense  #Just Dense or fully connected neurons\n",
    "import numpy"
   ]
  },
  {
   "cell_type": "code",
   "execution_count": 3,
   "metadata": {},
   "outputs": [],
   "source": [
    "from sklearn.metrics import confusion_matrix, classification_report, accuracy_score, roc_auc_score, f1_score\n",
    "import matplotlib.pyplot as plt"
   ]
  },
  {
   "cell_type": "code",
   "execution_count": 4,
   "metadata": {},
   "outputs": [],
   "source": [
    "numpy.random.seed(seed)"
   ]
  },
  {
   "cell_type": "code",
   "execution_count": 5,
   "metadata": {},
   "outputs": [],
   "source": [
    "def plotPerformance(history):\n",
    "    # summarize history for accuracy  \n",
    "\n",
    "    plt.plot(history.history['acc'])\n",
    "    plt.plot(history.history['val_acc'])\n",
    "    plt.title('model accuracy')\n",
    "    plt.ylabel('accuracy')\n",
    "    plt.xlabel('epoch')\n",
    "    plt.legend(['train', 'test'], loc='upper left')\n",
    "    plt.show()\n",
    "\n",
    "    # summarize history for loss  \n",
    "\n",
    "    plt.plot(history.history['loss'])\n",
    "    plt.plot(history.history['val_loss'])\n",
    "    plt.title('model loss')\n",
    "    plt.ylabel('loss')\n",
    "    plt.xlabel('epoch')\n",
    "    plt.legend(['train', 'test'], loc='upper left')\n",
    "    plt.show()"
   ]
  },
  {
   "cell_type": "code",
   "execution_count": 6,
   "metadata": {},
   "outputs": [
    {
     "data": {
      "text/plain": [
       "(768, 9)"
      ]
     },
     "execution_count": 6,
     "metadata": {},
     "output_type": "execute_result"
    }
   ],
   "source": [
    "# load pima indians dataset\n",
    "dataset = numpy.loadtxt(\"pima.csv\", delimiter=\",\")\n",
    "dataset.shape"
   ]
  },
  {
   "cell_type": "code",
   "execution_count": 7,
   "metadata": {},
   "outputs": [
    {
     "name": "stdout",
     "output_type": "stream",
     "text": [
      "[[   6.     148.      72.    ...,    0.627   50.       1.   ]\n",
      " [   1.      85.      66.    ...,    0.351   31.       0.   ]\n",
      " [   8.     183.      64.    ...,    0.672   32.       1.   ]\n",
      " ..., \n",
      " [   5.     121.      72.    ...,    0.245   30.       0.   ]\n",
      " [   1.     126.      60.    ...,    0.349   47.       1.   ]\n",
      " [   1.      93.      70.    ...,    0.315   23.       0.   ]]\n"
     ]
    }
   ],
   "source": [
    "print(dataset)"
   ]
  },
  {
   "cell_type": "code",
   "execution_count": 8,
   "metadata": {
    "collapsed": true
   },
   "outputs": [],
   "source": [
    "# split into input (X) and output (Y) variables\n",
    "X = dataset[:,0:8]\n",
    "Y = dataset[:,8]\n"
   ]
  },
  {
   "cell_type": "code",
   "execution_count": 31,
   "metadata": {
    "collapsed": true
   },
   "outputs": [],
   "source": [
    "# create model\n",
    "model = Sequential()\n",
    "model.add(Dense(12, input_dim=8, kernel_initializer=\"uniform\", activation='relu'))\n",
    "model.add(Dense(8, kernel_initializer='uniform', activation='relu'))\n",
    "model.add(Dense(1, kernel_initializer='uniform', activation='sigmoid'))"
   ]
  },
  {
   "cell_type": "code",
   "execution_count": 32,
   "metadata": {},
   "outputs": [],
   "source": [
    "# Compile model\n",
    "optimizer='adam' #adam, sgd\n",
    "model.compile(loss='binary_crossentropy', optimizer=optimizer, metrics=['accuracy'])"
   ]
  },
  {
   "cell_type": "code",
   "execution_count": 33,
   "metadata": {
    "scrolled": true
   },
   "outputs": [
    {
     "name": "stdout",
     "output_type": "stream",
     "text": [
      "Train on 614 samples, validate on 154 samples\n",
      "Epoch 1/140\n",
      "0s - loss: 0.6854 - acc: 0.6466 - val_loss: 0.6736 - val_acc: 0.6429\n",
      "Epoch 2/140\n",
      "0s - loss: 0.6662 - acc: 0.6531 - val_loss: 0.6673 - val_acc: 0.6429\n",
      "Epoch 3/140\n",
      "0s - loss: 0.6568 - acc: 0.6531 - val_loss: 0.6670 - val_acc: 0.6429\n",
      "Epoch 4/140\n",
      "0s - loss: 0.6508 - acc: 0.6547 - val_loss: 0.6632 - val_acc: 0.6494\n",
      "Epoch 5/140\n",
      "0s - loss: 0.6406 - acc: 0.6564 - val_loss: 0.6548 - val_acc: 0.6364\n",
      "Epoch 6/140\n",
      "0s - loss: 0.6274 - acc: 0.6743 - val_loss: 0.6489 - val_acc: 0.5974\n",
      "Epoch 7/140\n",
      "0s - loss: 0.6214 - acc: 0.6889 - val_loss: 0.6392 - val_acc: 0.6039\n",
      "Epoch 8/140\n",
      "0s - loss: 0.6092 - acc: 0.6857 - val_loss: 0.6304 - val_acc: 0.6494\n",
      "Epoch 9/140\n",
      "0s - loss: 0.6076 - acc: 0.6759 - val_loss: 0.6286 - val_acc: 0.6364\n",
      "Epoch 10/140\n",
      "0s - loss: 0.6019 - acc: 0.6792 - val_loss: 0.6286 - val_acc: 0.6299\n",
      "Epoch 11/140\n",
      "0s - loss: 0.5964 - acc: 0.6775 - val_loss: 0.6134 - val_acc: 0.6494\n",
      "Epoch 12/140\n",
      "0s - loss: 0.5919 - acc: 0.6857 - val_loss: 0.6119 - val_acc: 0.6169\n",
      "Epoch 13/140\n",
      "0s - loss: 0.5908 - acc: 0.6792 - val_loss: 0.6060 - val_acc: 0.6364\n",
      "Epoch 14/140\n",
      "0s - loss: 0.5916 - acc: 0.6873 - val_loss: 0.6071 - val_acc: 0.6688\n",
      "Epoch 15/140\n",
      "0s - loss: 0.5843 - acc: 0.6987 - val_loss: 0.6008 - val_acc: 0.6818\n",
      "Epoch 16/140\n",
      "0s - loss: 0.5853 - acc: 0.6938 - val_loss: 0.5987 - val_acc: 0.6948\n",
      "Epoch 17/140\n",
      "0s - loss: 0.5820 - acc: 0.7003 - val_loss: 0.6114 - val_acc: 0.6883\n",
      "Epoch 18/140\n",
      "0s - loss: 0.5885 - acc: 0.6906 - val_loss: 0.6071 - val_acc: 0.6883\n",
      "Epoch 19/140\n",
      "0s - loss: 0.5791 - acc: 0.6971 - val_loss: 0.6050 - val_acc: 0.6753\n",
      "Epoch 20/140\n",
      "0s - loss: 0.5752 - acc: 0.7020 - val_loss: 0.6032 - val_acc: 0.6948\n",
      "Epoch 21/140\n",
      "0s - loss: 0.5780 - acc: 0.6971 - val_loss: 0.5925 - val_acc: 0.6753\n",
      "Epoch 22/140\n",
      "0s - loss: 0.5734 - acc: 0.6954 - val_loss: 0.6159 - val_acc: 0.6818\n",
      "Epoch 23/140\n",
      "0s - loss: 0.5756 - acc: 0.7085 - val_loss: 0.5899 - val_acc: 0.6883\n",
      "Epoch 24/140\n",
      "0s - loss: 0.5729 - acc: 0.6889 - val_loss: 0.5852 - val_acc: 0.6948\n",
      "Epoch 25/140\n",
      "0s - loss: 0.5701 - acc: 0.7117 - val_loss: 0.6028 - val_acc: 0.6494\n",
      "Epoch 26/140\n",
      "0s - loss: 0.5700 - acc: 0.7215 - val_loss: 0.5845 - val_acc: 0.7078\n",
      "Epoch 27/140\n",
      "0s - loss: 0.5698 - acc: 0.7134 - val_loss: 0.5828 - val_acc: 0.6883\n",
      "Epoch 28/140\n",
      "0s - loss: 0.5640 - acc: 0.7182 - val_loss: 0.5925 - val_acc: 0.7013\n",
      "Epoch 29/140\n",
      "0s - loss: 0.5595 - acc: 0.7150 - val_loss: 0.5914 - val_acc: 0.6948\n",
      "Epoch 30/140\n",
      "0s - loss: 0.5610 - acc: 0.7264 - val_loss: 0.5829 - val_acc: 0.6883\n",
      "Epoch 31/140\n",
      "0s - loss: 0.5565 - acc: 0.7231 - val_loss: 0.6134 - val_acc: 0.6883\n",
      "Epoch 32/140\n",
      "0s - loss: 0.5634 - acc: 0.7166 - val_loss: 0.5892 - val_acc: 0.6948\n",
      "Epoch 33/140\n",
      "0s - loss: 0.5590 - acc: 0.7166 - val_loss: 0.5837 - val_acc: 0.6883\n",
      "Epoch 34/140\n",
      "0s - loss: 0.5602 - acc: 0.7182 - val_loss: 0.5824 - val_acc: 0.7143\n",
      "Epoch 35/140\n",
      "0s - loss: 0.5632 - acc: 0.7166 - val_loss: 0.5801 - val_acc: 0.7338\n",
      "Epoch 36/140\n",
      "0s - loss: 0.5526 - acc: 0.7166 - val_loss: 0.5820 - val_acc: 0.7013\n",
      "Epoch 37/140\n",
      "0s - loss: 0.5547 - acc: 0.7345 - val_loss: 0.5741 - val_acc: 0.7273\n",
      "Epoch 38/140\n",
      "0s - loss: 0.5508 - acc: 0.7378 - val_loss: 0.5708 - val_acc: 0.7013\n",
      "Epoch 39/140\n",
      "0s - loss: 0.5485 - acc: 0.7345 - val_loss: 0.5752 - val_acc: 0.7208\n",
      "Epoch 40/140\n",
      "0s - loss: 0.5578 - acc: 0.7394 - val_loss: 0.5774 - val_acc: 0.6818\n",
      "Epoch 41/140\n",
      "0s - loss: 0.5461 - acc: 0.7508 - val_loss: 0.5842 - val_acc: 0.7338\n",
      "Epoch 42/140\n",
      "0s - loss: 0.5541 - acc: 0.7101 - val_loss: 0.5684 - val_acc: 0.6948\n",
      "Epoch 43/140\n",
      "0s - loss: 0.5487 - acc: 0.7329 - val_loss: 0.5819 - val_acc: 0.7013\n",
      "Epoch 44/140\n",
      "0s - loss: 0.5469 - acc: 0.7427 - val_loss: 0.5711 - val_acc: 0.6818\n",
      "Epoch 45/140\n",
      "0s - loss: 0.5432 - acc: 0.7378 - val_loss: 0.5749 - val_acc: 0.6948\n",
      "Epoch 46/140\n",
      "0s - loss: 0.5483 - acc: 0.7427 - val_loss: 0.5748 - val_acc: 0.7013\n",
      "Epoch 47/140\n",
      "0s - loss: 0.5481 - acc: 0.7394 - val_loss: 0.5721 - val_acc: 0.7273\n",
      "Epoch 48/140\n",
      "0s - loss: 0.5403 - acc: 0.7296 - val_loss: 0.5673 - val_acc: 0.7013\n",
      "Epoch 49/140\n",
      "0s - loss: 0.5362 - acc: 0.7345 - val_loss: 0.5707 - val_acc: 0.7208\n",
      "Epoch 50/140\n",
      "0s - loss: 0.5384 - acc: 0.7508 - val_loss: 0.5680 - val_acc: 0.7273\n",
      "Epoch 51/140\n",
      "0s - loss: 0.5533 - acc: 0.7280 - val_loss: 0.5645 - val_acc: 0.7013\n",
      "Epoch 52/140\n",
      "0s - loss: 0.5345 - acc: 0.7345 - val_loss: 0.5682 - val_acc: 0.6883\n",
      "Epoch 53/140\n",
      "0s - loss: 0.5381 - acc: 0.7199 - val_loss: 0.5621 - val_acc: 0.7143\n",
      "Epoch 54/140\n",
      "0s - loss: 0.5373 - acc: 0.7427 - val_loss: 0.5698 - val_acc: 0.7208\n",
      "Epoch 55/140\n",
      "0s - loss: 0.5328 - acc: 0.7378 - val_loss: 0.5661 - val_acc: 0.7013\n",
      "Epoch 56/140\n",
      "0s - loss: 0.5343 - acc: 0.7459 - val_loss: 0.5666 - val_acc: 0.7208\n",
      "Epoch 57/140\n",
      "0s - loss: 0.5349 - acc: 0.7476 - val_loss: 0.5859 - val_acc: 0.6948\n",
      "Epoch 58/140\n",
      "0s - loss: 0.5299 - acc: 0.7427 - val_loss: 0.5649 - val_acc: 0.7078\n",
      "Epoch 59/140\n",
      "0s - loss: 0.5346 - acc: 0.7443 - val_loss: 0.5555 - val_acc: 0.7143\n",
      "Epoch 60/140\n",
      "0s - loss: 0.5304 - acc: 0.7378 - val_loss: 0.5671 - val_acc: 0.7143\n",
      "Epoch 61/140\n",
      "0s - loss: 0.5300 - acc: 0.7492 - val_loss: 0.5682 - val_acc: 0.6948\n",
      "Epoch 62/140\n",
      "0s - loss: 0.5274 - acc: 0.7573 - val_loss: 0.5647 - val_acc: 0.7013\n",
      "Epoch 63/140\n",
      "0s - loss: 0.5218 - acc: 0.7476 - val_loss: 0.5636 - val_acc: 0.7208\n",
      "Epoch 64/140\n",
      "0s - loss: 0.5312 - acc: 0.7280 - val_loss: 0.5715 - val_acc: 0.7208\n",
      "Epoch 65/140\n",
      "0s - loss: 0.5290 - acc: 0.7459 - val_loss: 0.5615 - val_acc: 0.7208\n",
      "Epoch 66/140\n",
      "0s - loss: 0.5252 - acc: 0.7459 - val_loss: 0.5600 - val_acc: 0.7273\n",
      "Epoch 67/140\n",
      "0s - loss: 0.5251 - acc: 0.7378 - val_loss: 0.5763 - val_acc: 0.6883\n",
      "Epoch 68/140\n",
      "0s - loss: 0.5205 - acc: 0.7476 - val_loss: 0.5566 - val_acc: 0.7208\n",
      "Epoch 69/140\n",
      "0s - loss: 0.5214 - acc: 0.7443 - val_loss: 0.5535 - val_acc: 0.7338\n",
      "Epoch 70/140\n",
      "0s - loss: 0.5194 - acc: 0.7492 - val_loss: 0.5612 - val_acc: 0.7273\n",
      "Epoch 71/140\n",
      "0s - loss: 0.5277 - acc: 0.7443 - val_loss: 0.5538 - val_acc: 0.7208\n",
      "Epoch 72/140\n",
      "0s - loss: 0.5265 - acc: 0.7508 - val_loss: 0.5750 - val_acc: 0.7078\n",
      "Epoch 73/140\n",
      "0s - loss: 0.5300 - acc: 0.7443 - val_loss: 0.5555 - val_acc: 0.7468\n",
      "Epoch 74/140\n",
      "0s - loss: 0.5196 - acc: 0.7476 - val_loss: 0.5558 - val_acc: 0.7273\n",
      "Epoch 75/140\n",
      "0s - loss: 0.5199 - acc: 0.7508 - val_loss: 0.5562 - val_acc: 0.7208\n",
      "Epoch 76/140\n",
      "0s - loss: 0.5171 - acc: 0.7524 - val_loss: 0.5769 - val_acc: 0.6883\n",
      "Epoch 77/140\n",
      "0s - loss: 0.5248 - acc: 0.7476 - val_loss: 0.5491 - val_acc: 0.7403\n",
      "Epoch 78/140\n",
      "0s - loss: 0.5151 - acc: 0.7524 - val_loss: 0.5478 - val_acc: 0.7532\n",
      "Epoch 79/140\n",
      "0s - loss: 0.5122 - acc: 0.7573 - val_loss: 0.5740 - val_acc: 0.7143\n",
      "Epoch 80/140\n",
      "0s - loss: 0.5309 - acc: 0.7329 - val_loss: 0.5462 - val_acc: 0.7208\n",
      "Epoch 81/140\n",
      "0s - loss: 0.5107 - acc: 0.7590 - val_loss: 0.5621 - val_acc: 0.7338\n",
      "Epoch 82/140\n",
      "0s - loss: 0.5182 - acc: 0.7476 - val_loss: 0.5591 - val_acc: 0.7208\n",
      "Epoch 83/140\n",
      "0s - loss: 0.5182 - acc: 0.7541 - val_loss: 0.5475 - val_acc: 0.7273\n",
      "Epoch 84/140\n",
      "0s - loss: 0.5171 - acc: 0.7590 - val_loss: 0.5483 - val_acc: 0.7532\n",
      "Epoch 85/140\n",
      "0s - loss: 0.5169 - acc: 0.7345 - val_loss: 0.5514 - val_acc: 0.7208\n",
      "Epoch 86/140\n",
      "0s - loss: 0.5107 - acc: 0.7459 - val_loss: 0.5585 - val_acc: 0.7208\n",
      "Epoch 87/140\n",
      "0s - loss: 0.5213 - acc: 0.7329 - val_loss: 0.5497 - val_acc: 0.7273\n",
      "Epoch 88/140\n",
      "0s - loss: 0.5151 - acc: 0.7524 - val_loss: 0.5454 - val_acc: 0.7532\n",
      "Epoch 89/140\n",
      "0s - loss: 0.5103 - acc: 0.7622 - val_loss: 0.5451 - val_acc: 0.7403\n",
      "Epoch 90/140\n",
      "0s - loss: 0.5081 - acc: 0.7622 - val_loss: 0.5523 - val_acc: 0.7338\n",
      "Epoch 91/140\n",
      "0s - loss: 0.5077 - acc: 0.7557 - val_loss: 0.5454 - val_acc: 0.7468\n",
      "Epoch 92/140\n",
      "0s - loss: 0.5167 - acc: 0.7476 - val_loss: 0.5479 - val_acc: 0.7273\n",
      "Epoch 93/140\n",
      "0s - loss: 0.5126 - acc: 0.7541 - val_loss: 0.5464 - val_acc: 0.7338\n",
      "Epoch 94/140\n",
      "0s - loss: 0.5048 - acc: 0.7622 - val_loss: 0.5418 - val_acc: 0.7468\n",
      "Epoch 95/140\n",
      "0s - loss: 0.5056 - acc: 0.7606 - val_loss: 0.5449 - val_acc: 0.7403\n",
      "Epoch 96/140\n",
      "0s - loss: 0.5078 - acc: 0.7557 - val_loss: 0.5379 - val_acc: 0.7403\n",
      "Epoch 97/140\n",
      "0s - loss: 0.5023 - acc: 0.7573 - val_loss: 0.5541 - val_acc: 0.7273\n",
      "Epoch 98/140\n",
      "0s - loss: 0.5116 - acc: 0.7590 - val_loss: 0.5740 - val_acc: 0.7078\n",
      "Epoch 99/140\n",
      "0s - loss: 0.5035 - acc: 0.7704 - val_loss: 0.5412 - val_acc: 0.7468\n",
      "Epoch 100/140\n",
      "0s - loss: 0.5007 - acc: 0.7655 - val_loss: 0.5436 - val_acc: 0.7403\n",
      "Epoch 101/140\n",
      "0s - loss: 0.5019 - acc: 0.7557 - val_loss: 0.5584 - val_acc: 0.7143\n",
      "Epoch 102/140\n",
      "0s - loss: 0.5019 - acc: 0.7541 - val_loss: 0.5399 - val_acc: 0.7468\n",
      "Epoch 103/140\n"
     ]
    },
    {
     "name": "stdout",
     "output_type": "stream",
     "text": [
      "0s - loss: 0.5060 - acc: 0.7524 - val_loss: 0.5363 - val_acc: 0.7662\n",
      "Epoch 104/140\n",
      "0s - loss: 0.5052 - acc: 0.7573 - val_loss: 0.5484 - val_acc: 0.7403\n",
      "Epoch 105/140\n",
      "0s - loss: 0.5050 - acc: 0.7590 - val_loss: 0.5332 - val_acc: 0.7597\n",
      "Epoch 106/140\n",
      "0s - loss: 0.5045 - acc: 0.7492 - val_loss: 0.5298 - val_acc: 0.7662\n",
      "Epoch 107/140\n",
      "0s - loss: 0.5062 - acc: 0.7655 - val_loss: 0.5299 - val_acc: 0.7468\n",
      "Epoch 108/140\n",
      "0s - loss: 0.5038 - acc: 0.7508 - val_loss: 0.5440 - val_acc: 0.7338\n",
      "Epoch 109/140\n",
      "0s - loss: 0.5040 - acc: 0.7590 - val_loss: 0.5414 - val_acc: 0.7338\n",
      "Epoch 110/140\n",
      "0s - loss: 0.4981 - acc: 0.7573 - val_loss: 0.5315 - val_acc: 0.7403\n",
      "Epoch 111/140\n",
      "0s - loss: 0.5012 - acc: 0.7606 - val_loss: 0.5363 - val_acc: 0.7662\n",
      "Epoch 112/140\n",
      "0s - loss: 0.4993 - acc: 0.7492 - val_loss: 0.5320 - val_acc: 0.7403\n",
      "Epoch 113/140\n",
      "0s - loss: 0.4987 - acc: 0.7671 - val_loss: 0.5482 - val_acc: 0.7143\n",
      "Epoch 114/140\n",
      "0s - loss: 0.5147 - acc: 0.7508 - val_loss: 0.5425 - val_acc: 0.7403\n",
      "Epoch 115/140\n",
      "0s - loss: 0.4934 - acc: 0.7687 - val_loss: 0.5385 - val_acc: 0.7403\n",
      "Epoch 116/140\n",
      "0s - loss: 0.4915 - acc: 0.7606 - val_loss: 0.5308 - val_acc: 0.7468\n",
      "Epoch 117/140\n",
      "0s - loss: 0.4977 - acc: 0.7638 - val_loss: 0.5393 - val_acc: 0.7468\n",
      "Epoch 118/140\n",
      "0s - loss: 0.4931 - acc: 0.7573 - val_loss: 0.5280 - val_acc: 0.7662\n",
      "Epoch 119/140\n",
      "0s - loss: 0.4954 - acc: 0.7541 - val_loss: 0.5265 - val_acc: 0.7597\n",
      "Epoch 120/140\n",
      "0s - loss: 0.4918 - acc: 0.7573 - val_loss: 0.5249 - val_acc: 0.7403\n",
      "Epoch 121/140\n",
      "0s - loss: 0.4969 - acc: 0.7573 - val_loss: 0.5346 - val_acc: 0.7403\n",
      "Epoch 122/140\n",
      "0s - loss: 0.4905 - acc: 0.7590 - val_loss: 0.5260 - val_acc: 0.7727\n",
      "Epoch 123/140\n",
      "0s - loss: 0.5012 - acc: 0.7492 - val_loss: 0.5808 - val_acc: 0.7013\n",
      "Epoch 124/140\n",
      "0s - loss: 0.4948 - acc: 0.7818 - val_loss: 0.5337 - val_acc: 0.7403\n",
      "Epoch 125/140\n",
      "0s - loss: 0.4836 - acc: 0.7671 - val_loss: 0.5228 - val_acc: 0.7597\n",
      "Epoch 126/140\n",
      "0s - loss: 0.4843 - acc: 0.7638 - val_loss: 0.5298 - val_acc: 0.7338\n",
      "Epoch 127/140\n",
      "0s - loss: 0.4855 - acc: 0.7573 - val_loss: 0.5355 - val_acc: 0.7403\n",
      "Epoch 128/140\n",
      "0s - loss: 0.4925 - acc: 0.7704 - val_loss: 0.5191 - val_acc: 0.7532\n",
      "Epoch 129/140\n",
      "0s - loss: 0.4902 - acc: 0.7655 - val_loss: 0.5181 - val_acc: 0.7468\n",
      "Epoch 130/140\n",
      "0s - loss: 0.4867 - acc: 0.7704 - val_loss: 0.5326 - val_acc: 0.7403\n",
      "Epoch 131/140\n",
      "0s - loss: 0.4945 - acc: 0.7606 - val_loss: 0.5514 - val_acc: 0.7208\n",
      "Epoch 132/140\n",
      "0s - loss: 0.4854 - acc: 0.7573 - val_loss: 0.5352 - val_acc: 0.7662\n",
      "Epoch 133/140\n",
      "0s - loss: 0.4885 - acc: 0.7638 - val_loss: 0.5200 - val_acc: 0.7532\n",
      "Epoch 134/140\n",
      "0s - loss: 0.4868 - acc: 0.7573 - val_loss: 0.5191 - val_acc: 0.7468\n",
      "Epoch 135/140\n",
      "0s - loss: 0.4851 - acc: 0.7622 - val_loss: 0.5282 - val_acc: 0.7532\n",
      "Epoch 136/140\n",
      "0s - loss: 0.4820 - acc: 0.7687 - val_loss: 0.5172 - val_acc: 0.7597\n",
      "Epoch 137/140\n",
      "0s - loss: 0.4803 - acc: 0.7655 - val_loss: 0.5450 - val_acc: 0.7532\n",
      "Epoch 138/140\n",
      "0s - loss: 0.4917 - acc: 0.7492 - val_loss: 0.5560 - val_acc: 0.7273\n",
      "Epoch 139/140\n",
      "0s - loss: 0.4839 - acc: 0.7687 - val_loss: 0.5130 - val_acc: 0.7468\n",
      "Epoch 140/140\n",
      "0s - loss: 0.4841 - acc: 0.7655 - val_loss: 0.5262 - val_acc: 0.7597\n"
     ]
    }
   ],
   "source": [
    "# Fit the model\n",
    "history = model.fit(X, Y, validation_split=0.20,epochs=140, batch_size=10,  verbose=2)\n"
   ]
  },
  {
   "cell_type": "code",
   "execution_count": 34,
   "metadata": {},
   "outputs": [
    {
     "name": "stdout",
     "output_type": "stream",
     "text": [
      " 32/768 [>.............................] - ETA: 0s\n",
      "acc: 76.82%\n"
     ]
    }
   ],
   "source": [
    "# evaluate the model\n",
    "loss, acc_t = model.evaluate(X, Y)\n",
    "print(\"\\n%s: %.2f%%\" % (model.metrics_names[1], acc_t*100))"
   ]
  },
  {
   "cell_type": "code",
   "execution_count": 35,
   "metadata": {},
   "outputs": [
    {
     "name": "stdout",
     "output_type": "stream",
     "text": [
      "Prediction Accuracy: 76.82%\n"
     ]
    }
   ],
   "source": [
    "# calculate predictions\n",
    "probabilities = model.predict(X)\n",
    "predictions = [float(round(x[0])) for x in probabilities]\n",
    "accuracy = numpy.mean(predictions == Y)\n",
    "print(\"Prediction Accuracy: %.2f%%\" % (accuracy*100))"
   ]
  },
  {
   "cell_type": "code",
   "execution_count": 36,
   "metadata": {},
   "outputs": [
    {
     "name": "stdout",
     "output_type": "stream",
     "text": [
      "dict_keys(['val_loss', 'val_acc', 'loss', 'acc'])\n"
     ]
    }
   ],
   "source": [
    " print(history.history.keys())  "
   ]
  },
  {
   "cell_type": "code",
   "execution_count": 15,
   "metadata": {},
   "outputs": [
    {
     "name": "stdout",
     "output_type": "stream",
     "text": [
      "<keras.optimizers.SGD object at 0x7fc215b0acf8>\n",
      "Accuracy: 65.10%\n"
     ]
    },
    {
     "data": {
      "image/png": "[encoded data removed]",
      "text/plain": [
       "<matplotlib.figure.Figure at 0x7fc215835128>"
      ]
     },
     "metadata": {},
     "output_type": "display_data"
    },
    {
     "data": {
      "image/png": "[encoded data removed]",
      "text/plain": [
       "<matplotlib.figure.Figure at 0x7fc214795cc0>"
      ]
     },
     "metadata": {},
     "output_type": "display_data"
    }
   ],
   "source": [
    "# Let's create a plot to evaluate the performance\n",
    "print (model.optimizer)\n",
    "print(\"Accuracy: %.2f%%\" % (acc_t*100))\n",
    "plotPerformance(history)"
   ]
  },
  {
   "cell_type": "markdown",
   "metadata": {},
   "source": [
    "##### Let's try a new optimizer \n",
    "##### Let's play with optimization algorithms and epoch numbers! "
   ]
  },
  {
   "cell_type": "code",
   "execution_count": null,
   "metadata": {
    "collapsed": true
   },
   "outputs": [],
   "source": []
  },
  {
   "cell_type": "code",
   "execution_count": null,
   "metadata": {},
   "outputs": [],
   "source": []
  },
  {
   "cell_type": "code",
   "execution_count": null,
   "metadata": {
    "collapsed": true
   },
   "outputs": [],
   "source": []
  },
  {
   "cell_type": "code",
   "execution_count": null,
   "metadata": {
    "collapsed": true
   },
   "outputs": [],
   "source": []
  },
  {
   "cell_type": "code",
   "execution_count": null,
   "metadata": {
    "collapsed": true
   },
   "outputs": [],
   "source": []
  },
  {
   "cell_type": "code",
   "execution_count": null,
   "metadata": {
    "collapsed": true
   },
   "outputs": [],
   "source": []
  },
  {
   "cell_type": "markdown",
   "metadata": {},
   "source": [
    "### 2.2 MNIST"
   ]
  },
  {
   "cell_type": "code",
   "execution_count": 39,
   "metadata": {
    "collapsed": true
   },
   "outputs": [],
   "source": [
    "from keras.layers import Dense, Activation\n",
    "\n",
    "model.add(Dense(units=64, input_dim=100))\n",
    "model.add(Activation('relu'))\n",
    "model.add(Dense(units=10))\n",
    "model.add(Activation('softmax'))\n"
   ]
  },
  {
   "cell_type": "code",
   "execution_count": 40,
   "metadata": {
    "collapsed": true
   },
   "outputs": [],
   "source": [
    "model.compile(loss='categorical_crossentropy',\n",
    "              optimizer='sgd',\n",
    "              metrics=['accuracy'])\n"
   ]
  },
  {
   "cell_type": "code",
   "execution_count": null,
   "metadata": {
    "collapsed": true
   },
   "outputs": [],
   "source": []
  },
  {
   "cell_type": "code",
   "execution_count": null,
   "metadata": {
    "collapsed": true
   },
   "outputs": [],
   "source": []
  },
  {
   "cell_type": "code",
   "execution_count": null,
   "metadata": {
    "collapsed": true
   },
   "outputs": [],
   "source": []
  },
  {
   "cell_type": "code",
   "execution_count": null,
   "metadata": {
    "collapsed": true
   },
   "outputs": [],
   "source": []
  },
  {
   "cell_type": "code",
   "execution_count": 9,
   "metadata": {},
   "outputs": [
    {
     "name": "stderr",
     "output_type": "stream",
     "text": [
      "/opt/conda/lib/python3.6/site-packages/keras/models.py:848: UserWarning: The `nb_epoch` argument in `fit` has been renamed `epochs`.\n",
      "  warnings.warn('The `nb_epoch` argument in `fit` '\n"
     ]
    },
    {
     "ename": "ValueError",
     "evalue": "You are passing a target array of shape (768, 1) while using as loss `categorical_crossentropy`. `categorical_crossentropy` expects targets to be binary matrices (1s and 0s) of shape (samples, classes). If your targets are integer classes, you can convert them to the expected format via:\n```\nfrom keras.utils.np_utils import to_categorical\ny_binary = to_categorical(y_int)\n```\n\nAlternatively, you can use the loss function `sparse_categorical_crossentropy` instead, which does expect integer targets.",
     "output_type": "error",
     "traceback": [
      "\u001b[0;31m---------------------------------------------------------------------------\u001b[0m",
      "\u001b[0;31mValueError\u001b[0m                                Traceback (most recent call last)",
      "\u001b[0;32m<ipython-input-9-ef94a23816bb>\u001b[0m in \u001b[0;36m<module>\u001b[0;34m()\u001b[0m\n\u001b[0;32m----> 1\u001b[0;31m \u001b[0mmodel\u001b[0m\u001b[0;34m.\u001b[0m\u001b[0mfit\u001b[0m\u001b[0;34m(\u001b[0m\u001b[0mX\u001b[0m\u001b[0;34m,\u001b[0m \u001b[0mY\u001b[0m\u001b[0;34m,\u001b[0m \u001b[0mnb_epoch\u001b[0m\u001b[0;34m=\u001b[0m\u001b[0;36m10\u001b[0m\u001b[0;34m,\u001b[0m \u001b[0mbatch_size\u001b[0m\u001b[0;34m=\u001b[0m \u001b[0;36m100\u001b[0m\u001b[0;34m,\u001b[0m  \u001b[0mverbose\u001b[0m\u001b[0;34m=\u001b[0m\u001b[0;36m1\u001b[0m\u001b[0;34m)\u001b[0m\u001b[0;34m\u001b[0m\u001b[0m\n\u001b[0m",
      "\u001b[0;32m/opt/conda/lib/python3.6/site-packages/keras/models.py\u001b[0m in \u001b[0;36mfit\u001b[0;34m(self, x, y, batch_size, epochs, verbose, callbacks, validation_split, validation_data, shuffle, class_weight, sample_weight, initial_epoch, **kwargs)\u001b[0m\n\u001b[1;32m    865\u001b[0m                               \u001b[0mclass_weight\u001b[0m\u001b[0;34m=\u001b[0m\u001b[0mclass_weight\u001b[0m\u001b[0;34m,\u001b[0m\u001b[0;34m\u001b[0m\u001b[0m\n\u001b[1;32m    866\u001b[0m                               \u001b[0msample_weight\u001b[0m\u001b[0;34m=\u001b[0m\u001b[0msample_weight\u001b[0m\u001b[0;34m,\u001b[0m\u001b[0;34m\u001b[0m\u001b[0m\n\u001b[0;32m--> 867\u001b[0;31m                               initial_epoch=initial_epoch)\n\u001b[0m\u001b[1;32m    868\u001b[0m \u001b[0;34m\u001b[0m\u001b[0m\n\u001b[1;32m    869\u001b[0m     def evaluate(self, x, y, batch_size=32, verbose=1,\n",
      "\u001b[0;32m/opt/conda/lib/python3.6/site-packages/keras/engine/training.py\u001b[0m in \u001b[0;36mfit\u001b[0;34m(self, x, y, batch_size, epochs, verbose, callbacks, validation_split, validation_data, shuffle, class_weight, sample_weight, initial_epoch, steps_per_epoch, validation_steps, **kwargs)\u001b[0m\n\u001b[1;32m   1520\u001b[0m             \u001b[0mclass_weight\u001b[0m\u001b[0;34m=\u001b[0m\u001b[0mclass_weight\u001b[0m\u001b[0;34m,\u001b[0m\u001b[0;34m\u001b[0m\u001b[0m\n\u001b[1;32m   1521\u001b[0m             \u001b[0mcheck_batch_axis\u001b[0m\u001b[0;34m=\u001b[0m\u001b[0;32mFalse\u001b[0m\u001b[0;34m,\u001b[0m\u001b[0;34m\u001b[0m\u001b[0m\n\u001b[0;32m-> 1522\u001b[0;31m             batch_size=batch_size)\n\u001b[0m\u001b[1;32m   1523\u001b[0m         \u001b[0;31m# Prepare validation data.\u001b[0m\u001b[0;34m\u001b[0m\u001b[0;34m\u001b[0m\u001b[0m\n\u001b[1;32m   1524\u001b[0m         \u001b[0mdo_validation\u001b[0m \u001b[0;34m=\u001b[0m \u001b[0;32mFalse\u001b[0m\u001b[0;34m\u001b[0m\u001b[0m\n",
      "\u001b[0;32m/opt/conda/lib/python3.6/site-packages/keras/engine/training.py\u001b[0m in \u001b[0;36m_standardize_user_data\u001b[0;34m(self, x, y, sample_weight, class_weight, check_batch_axis, batch_size)\u001b[0m\n\u001b[1;32m   1391\u001b[0m         _check_loss_and_target_compatibility(y,\n\u001b[1;32m   1392\u001b[0m                                              \u001b[0mself\u001b[0m\u001b[0;34m.\u001b[0m\u001b[0m_feed_loss_fns\u001b[0m\u001b[0;34m,\u001b[0m\u001b[0;34m\u001b[0m\u001b[0m\n\u001b[0;32m-> 1393\u001b[0;31m                                              self._feed_output_shapes)\n\u001b[0m\u001b[1;32m   1394\u001b[0m         \u001b[0;32mif\u001b[0m \u001b[0mself\u001b[0m\u001b[0;34m.\u001b[0m\u001b[0mstateful\u001b[0m \u001b[0;32mand\u001b[0m \u001b[0mbatch_size\u001b[0m\u001b[0;34m:\u001b[0m\u001b[0;34m\u001b[0m\u001b[0m\n\u001b[1;32m   1395\u001b[0m             \u001b[0;32mif\u001b[0m \u001b[0mx\u001b[0m\u001b[0;34m[\u001b[0m\u001b[0;36m0\u001b[0m\u001b[0;34m]\u001b[0m\u001b[0;34m.\u001b[0m\u001b[0mshape\u001b[0m\u001b[0;34m[\u001b[0m\u001b[0;36m0\u001b[0m\u001b[0;34m]\u001b[0m \u001b[0;34m%\u001b[0m \u001b[0mbatch_size\u001b[0m \u001b[0;34m!=\u001b[0m \u001b[0;36m0\u001b[0m\u001b[0;34m:\u001b[0m\u001b[0;34m\u001b[0m\u001b[0m\n",
      "\u001b[0;32m/opt/conda/lib/python3.6/site-packages/keras/engine/training.py\u001b[0m in \u001b[0;36m_check_loss_and_target_compatibility\u001b[0;34m(targets, loss_fns, output_shapes)\u001b[0m\n\u001b[1;32m    275\u001b[0m                 raise ValueError(\n\u001b[1;32m    276\u001b[0m                     \u001b[0;34m'You are passing a target array of shape '\u001b[0m \u001b[0;34m+\u001b[0m \u001b[0mstr\u001b[0m\u001b[0;34m(\u001b[0m\u001b[0my\u001b[0m\u001b[0;34m.\u001b[0m\u001b[0mshape\u001b[0m\u001b[0;34m)\u001b[0m \u001b[0;34m+\u001b[0m\u001b[0;34m\u001b[0m\u001b[0m\n\u001b[0;32m--> 277\u001b[0;31m                     \u001b[0;34m' while using as loss `categorical_crossentropy`. '\u001b[0m\u001b[0;34m\u001b[0m\u001b[0m\n\u001b[0m\u001b[1;32m    278\u001b[0m                     \u001b[0;34m'`categorical_crossentropy` expects '\u001b[0m\u001b[0;34m\u001b[0m\u001b[0m\n\u001b[1;32m    279\u001b[0m                     \u001b[0;34m'targets to be binary matrices (1s and 0s) '\u001b[0m\u001b[0;34m\u001b[0m\u001b[0m\n",
      "\u001b[0;31mValueError\u001b[0m: You are passing a target array of shape (768, 1) while using as loss `categorical_crossentropy`. `categorical_crossentropy` expects targets to be binary matrices (1s and 0s) of shape (samples, classes). If your targets are integer classes, you can convert them to the expected format via:\n```\nfrom keras.utils.np_utils import to_categorical\ny_binary = to_categorical(y_int)\n```\n\nAlternatively, you can use the loss function `sparse_categorical_crossentropy` instead, which does expect integer targets."
     ]
    }
   ],
   "source": [
    "model.fit(X, Y, nb_epoch=10, batch_size= 100,  verbose=1)"
   ]
  },
  {
   "cell_type": "code",
   "execution_count": 8,
   "metadata": {},
   "outputs": [],
   "source": [
    "model.compile(loss='categorical_crossentropy',\n",
    "              optimizer='adam')\n"
   ]
  },
  {
   "cell_type": "code",
   "execution_count": null,
   "metadata": {
    "collapsed": true
   },
   "outputs": [],
   "source": []
  }
 ],
 "metadata": {
  "kernelspec": {
   "display_name": "Python 3",
   "language": "python",
   "name": "python3"
  },
  "language_info": {
   "codemirror_mode": {
    "name": "ipython",
    "version": 3
   },
   "file_extension": ".py",
   "mimetype": "text/x-python",
   "name": "python",
   "nbconvert_exporter": "python",
   "pygments_lexer": "ipython3",
   "version": "3.6.0"
  }
 },
 "nbformat": 4,
 "nbformat_minor": 2
}
