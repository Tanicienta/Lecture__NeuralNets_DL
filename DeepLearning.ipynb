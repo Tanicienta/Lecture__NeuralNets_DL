{
  "nbformat": 4,
  "nbformat_minor": 0,
  "metadata": {
    "colab": {
      "name": "DeepLearning.ipynb",
      "version": "0.3.2",
      "provenance": [],
      "collapsed_sections": []
    }
  },
  "cells": [
    {
      "cell_type": "markdown",
      "metadata": {
        "id": "view-in-github",
        "colab_type": "text"
      },
      "source": [
        "[View in Colaboratory](https://colab.research.google.com/github/nathalyAlarconT/Lecture__NeuralNets_DL/blob/master/DeepLearning.ipynb)"
      ]
    },
    {
      "metadata": {
        "id": "Cv39IrnnNSBo",
        "colab_type": "text"
      },
      "cell_type": "markdown",
      "source": [
        "# Lecture 4 - Redes Neuronales"
      ]
    },
    {
      "metadata": {
        "id": "2VPq1mE2NYiP",
        "colab_type": "text"
      },
      "cell_type": "markdown",
      "source": [
        ""
      ]
    },
    {
      "metadata": {
        "id": "wQZN63bfQKrM",
        "colab_type": "text"
      },
      "cell_type": "markdown",
      "source": [
        "##**Representaciones de datos para redes neuronales**"
      ]
    },
    {
      "metadata": {
        "id": "zr09ATVLQGSS",
        "colab_type": "code",
        "colab": {
          "base_uri": "https://localhost:8080/",
          "height": 104
        },
        "outputId": "d0f36343-024e-4501-a6e6-dcb2d3090f05"
      },
      "cell_type": "code",
      "source": [
        "import numpy as np\n",
        "x = np.array(12)\n",
        "\n",
        "# Escalar - 0D tensor\n",
        "print(\"Escalar\")\n",
        "print(x)\n",
        "print(x.ndim) #number of axes\n",
        "print(x.shape) #shape\n",
        "print(x.dtype) #Data type"
      ],
      "execution_count": 1,
      "outputs": [
        {
          "output_type": "stream",
          "text": [
            "Escalar\n",
            "12\n",
            "0\n",
            "()\n",
            "int64\n"
          ],
          "name": "stdout"
        }
      ]
    },
    {
      "metadata": {
        "id": "pLFFNhV-QIZ1",
        "colab_type": "code",
        "colab": {
          "base_uri": "https://localhost:8080/",
          "height": 87
        },
        "outputId": "e54536f1-ebda-4769-8c69-0f663010424b"
      },
      "cell_type": "code",
      "source": [
        "# Vectores - 1D tensor\n",
        "x = np.array([3,4,2])\n",
        "print(x)\n",
        "print(x.ndim)\n",
        "print(x.shape)\n",
        "print(x.dtype)"
      ],
      "execution_count": 2,
      "outputs": [
        {
          "output_type": "stream",
          "text": [
            "[3 4 2]\n",
            "1\n",
            "(3,)\n",
            "int64\n"
          ],
          "name": "stdout"
        }
      ]
    },
    {
      "metadata": {
        "id": "d9bB6Y-oQuJ9",
        "colab_type": "code",
        "colab": {
          "base_uri": "https://localhost:8080/",
          "height": 121
        },
        "outputId": "3cfc41e5-518c-43ae-ff00-b22ba5de5c89"
      },
      "cell_type": "code",
      "source": [
        "# Matrix - 2D tensor\n",
        "x = np.array([[2,5,2,5], [5,4,2,3],[6,23,4,566]])\n",
        "print(x)\n",
        "print(x.ndim)\n",
        "print(x.shape)\n",
        "print(x.dtype)\n"
      ],
      "execution_count": 3,
      "outputs": [
        {
          "output_type": "stream",
          "text": [
            "[[  2   5   2   5]\n",
            " [  5   4   2   3]\n",
            " [  6  23   4 566]]\n",
            "2\n",
            "(3, 4)\n",
            "int64\n"
          ],
          "name": "stdout"
        }
      ]
    },
    {
      "metadata": {
        "id": "X_Y9u9buRENf",
        "colab_type": "code",
        "colab": {
          "base_uri": "https://localhost:8080/",
          "height": 243
        },
        "outputId": "b0b790be-18f0-4407-cd29-df1ba5a9ddc5"
      },
      "cell_type": "code",
      "source": [
        "# 3D tensor\n",
        "x = np.array([\n",
        "              [[2,5,2,5], [5,4,2,3],[6,2,4,566]],\n",
        "              [[2,5,2,5], [5,4,2,3],[6,23,4,566]],\n",
        "              [[2,4,2,5], [5,4,2,1],[2,3,4,5]]\n",
        "    ])\n",
        "print(x)\n",
        "print(x.ndim)\n",
        "print(x.shape)"
      ],
      "execution_count": 4,
      "outputs": [
        {
          "output_type": "stream",
          "text": [
            "[[[  2   5   2   5]\n",
            "  [  5   4   2   3]\n",
            "  [  6   2   4 566]]\n",
            "\n",
            " [[  2   5   2   5]\n",
            "  [  5   4   2   3]\n",
            "  [  6  23   4 566]]\n",
            "\n",
            " [[  2   4   2   5]\n",
            "  [  5   4   2   1]\n",
            "  [  2   3   4   5]]]\n",
            "3\n",
            "(3, 3, 4)\n"
          ],
          "name": "stdout"
        }
      ]
    },
    {
      "metadata": {
        "id": "gugx6egja4XT",
        "colab_type": "text"
      },
      "cell_type": "markdown",
      "source": [
        "###Ejemplos de Tensores del mundo Real\n",
        "\n",
        "\n",
        "\n",
        "*   Vectores - 2D Tensors (samples, features)\n",
        "*   Timeseries - 3D Tensors (samples, timesteps, features) - Time axis is always the second one.\n",
        "*   Imagenes - 4D Tensors (samples, height, width, channels) or (samples, channels, height, width)\n",
        "*   Video - 5D Tensors (samples, frames, height, width, channels) or (samples, frames, channels, height, width)\n",
        "\n"
      ]
    },
    {
      "metadata": {
        "id": "bKiPwhXASbxh",
        "colab_type": "text"
      },
      "cell_type": "markdown",
      "source": [
        "##**Hello World en Redes Neuronales**"
      ]
    },
    {
      "metadata": {
        "id": "F2jAUDh0H43s",
        "colab_type": "code",
        "colab": {
          "base_uri": "https://localhost:8080/",
          "height": 35
        },
        "outputId": "e7a305d8-3b06-4ea1-b02b-df87b0323fe6"
      },
      "cell_type": "code",
      "source": [
        "from keras.datasets import mnist"
      ],
      "execution_count": 5,
      "outputs": [
        {
          "output_type": "stream",
          "text": [
            "Using TensorFlow backend.\n"
          ],
          "name": "stderr"
        }
      ]
    },
    {
      "metadata": {
        "id": "fnoeVzBBH-0N",
        "colab_type": "code",
        "colab": {
          "base_uri": "https://localhost:8080/",
          "height": 69
        },
        "outputId": "10a4f4db-82df-4e2c-e7e7-d16474a247c2"
      },
      "cell_type": "code",
      "source": [
        "# Cargamos el dataset\n",
        "(train_images, train_labels), (test_images, test_labels) = mnist.load_data()\n"
      ],
      "execution_count": 6,
      "outputs": [
        {
          "output_type": "stream",
          "text": [
            "Downloading data from https://s3.amazonaws.com/img-datasets/mnist.npz\n",
            "11493376/11490434 [==============================] - 1s 0us/step\n",
            "11501568/11490434 [==============================] - 1s 0us/step\n"
          ],
          "name": "stdout"
        }
      ]
    },
    {
      "metadata": {
        "id": "IVzxC5IQIDkk",
        "colab_type": "code",
        "colab": {
          "base_uri": "https://localhost:8080/",
          "height": 87
        },
        "outputId": "e43bb7af-3bbf-414e-edc4-7b059fdf84e1"
      },
      "cell_type": "code",
      "source": [
        "# Revisemos los tensores en train\n",
        "print(train_images.ndim)\n",
        "print(train_images.shape)\n",
        "print(len(train_labels))\n",
        "print(train_labels.dtype)\n"
      ],
      "execution_count": 7,
      "outputs": [
        {
          "output_type": "stream",
          "text": [
            "3\n",
            "(60000, 28, 28)\n",
            "60000\n",
            "uint8\n"
          ],
          "name": "stdout"
        }
      ]
    },
    {
      "metadata": {
        "id": "QmpgT0ymIMSR",
        "colab_type": "code",
        "colab": {
          "base_uri": "https://localhost:8080/",
          "height": 87
        },
        "outputId": "c9e795f1-22e7-4b8e-ad39-63913d495e88"
      },
      "cell_type": "code",
      "source": [
        "# Revisemos los tensores en test\n",
        "print(test_images.ndim)\n",
        "print(test_images.shape)\n",
        "print(len(test_labels))\n",
        "print(test_images.dtype)"
      ],
      "execution_count": 8,
      "outputs": [
        {
          "output_type": "stream",
          "text": [
            "3\n",
            "(10000, 28, 28)\n",
            "10000\n",
            "uint8\n"
          ],
          "name": "stdout"
        }
      ]
    },
    {
      "metadata": {
        "id": "Q8ETJvpEILxL",
        "colab_type": "code",
        "colab": {
          "base_uri": "https://localhost:8080/",
          "height": 35
        },
        "outputId": "3399fe01-57f7-4a73-81e0-f54d52edd2d8"
      },
      "cell_type": "code",
      "source": [
        "test_labels"
      ],
      "execution_count": 9,
      "outputs": [
        {
          "output_type": "execute_result",
          "data": {
            "text/plain": [
              "array([7, 2, 1, ..., 4, 5, 6], dtype=uint8)"
            ]
          },
          "metadata": {
            "tags": []
          },
          "execution_count": 9
        }
      ]
    },
    {
      "metadata": {
        "id": "o5LaoK6zUIL5",
        "colab_type": "text"
      },
      "cell_type": "markdown",
      "source": [
        "**Veamos los ejemplos del dataset**"
      ]
    },
    {
      "metadata": {
        "id": "O5pdm-waUEVt",
        "colab_type": "code",
        "colab": {}
      },
      "cell_type": "code",
      "source": [
        "import matplotlib.pyplot as plt"
      ],
      "execution_count": 0,
      "outputs": []
    },
    {
      "metadata": {
        "id": "28-SjXYtX3kM",
        "colab_type": "code",
        "colab": {}
      },
      "cell_type": "code",
      "source": [
        "image_number = 22"
      ],
      "execution_count": 0,
      "outputs": []
    },
    {
      "metadata": {
        "id": "nkMIOKXnX7Yo",
        "colab_type": "code",
        "colab": {
          "base_uri": "https://localhost:8080/",
          "height": 35
        },
        "outputId": "fd8b1829-dbe4-4cf9-b88a-d2141851e4b8"
      },
      "cell_type": "code",
      "source": [
        "train_labels[image_number]"
      ],
      "execution_count": 12,
      "outputs": [
        {
          "output_type": "execute_result",
          "data": {
            "text/plain": [
              "9"
            ]
          },
          "metadata": {
            "tags": []
          },
          "execution_count": 12
        }
      ]
    },
    {
      "metadata": {
        "id": "ZvDTt3SIIJQc",
        "colab_type": "code",
        "colab": {
          "base_uri": "https://localhost:8080/",
          "height": 347
        },
        "outputId": "43ac7569-6128-47ef-9cfa-446f1fae6d4b"
      },
      "cell_type": "code",
      "source": [
        "# Tensor Slicing = Seleccionar elementos específicos sobre el axis\n",
        "\n",
        "digit = train_images[image_number]\n",
        "\n",
        "plt.imshow(digit, cmap=plt.cm.binary)\n",
        "plt.show()"
      ],
      "execution_count": 13,
      "outputs": [
        {
          "output_type": "display_data",
          "data": {
            "image/png": "[encoded data removed]",
            "text/plain": [
              "<matplotlib.figure.Figure at 0x7eff4afa5d50>"
            ]
          },
          "metadata": {
            "tags": []
          }
        }
      ]
    },
    {
      "metadata": {
        "id": "Vp-i7zuVXOHp",
        "colab_type": "code",
        "colab": {
          "base_uri": "https://localhost:8080/",
          "height": 347
        },
        "outputId": "fb65e111-682c-43c3-cb35-6e2c329478cd"
      },
      "cell_type": "code",
      "source": [
        "# Tensor Slicing = Seleccionar elementos específicos sobre el axis\n",
        "\n",
        "digit = train_images[image_number, 10: , 10:]\n",
        "\n",
        "plt.imshow(digit, cmap=plt.cm.binary)\n",
        "plt.show()"
      ],
      "execution_count": 14,
      "outputs": [
        {
          "output_type": "display_data",
          "data": {
            "image/png": "[encoded data removed]",
            "text/plain": [
              "<matplotlib.figure.Figure at 0x7eff4afa55d0>"
            ]
          },
          "metadata": {
            "tags": []
          }
        }
      ]
    },
    {
      "metadata": {
        "id": "rrhWIXsUXjo-",
        "colab_type": "code",
        "colab": {
          "base_uri": "https://localhost:8080/",
          "height": 347
        },
        "outputId": "a8dea01b-4954-42e0-acf1-c5bf4bd3f4ad"
      },
      "cell_type": "code",
      "source": [
        "# Tensor Slicing = Seleccionar elementos específicos sobre el axis\n",
        "\n",
        "digit = train_images[image_number, 7:-7 , 7:-7]\n",
        "\n",
        "plt.imshow(digit, cmap=plt.cm.binary)\n",
        "plt.show()"
      ],
      "execution_count": 15,
      "outputs": [
        {
          "output_type": "display_data",
          "data": {
            "image/png": "[encoded data removed]",
            "text/plain": [
              "<matplotlib.figure.Figure at 0x7eff489edc50>"
            ]
          },
          "metadata": {
            "tags": []
          }
        }
      ]
    },
    {
      "metadata": {
        "id": "51rVXJuYZT3Y",
        "colab_type": "text"
      },
      "cell_type": "markdown",
      "source": [
        "**Data Batches**"
      ]
    },
    {
      "metadata": {
        "id": "HHn1tqlzUREt",
        "colab_type": "code",
        "colab": {
          "base_uri": "https://localhost:8080/",
          "height": 35
        },
        "outputId": "13834806-b2e7-4d24-a81b-9482fa91be18"
      },
      "cell_type": "code",
      "source": [
        "# Deep Learning no procesa todos los datos de golpe\n",
        "# Mas bien, se dividen los datos en trozos o batches\n",
        "# Las divisiones se realizan sobre el primer axis (ndim)\n",
        "\n",
        "batch = train_images[:128]\n",
        "print(batch.shape)"
      ],
      "execution_count": 16,
      "outputs": [
        {
          "output_type": "stream",
          "text": [
            "(128, 28, 28)\n"
          ],
          "name": "stdout"
        }
      ]
    },
    {
      "metadata": {
        "id": "l9oEHeWkZ3ar",
        "colab_type": "code",
        "colab": {}
      },
      "cell_type": "code",
      "source": [
        "# El siguiente batch\n",
        "batch = train_images[128:256]"
      ],
      "execution_count": 0,
      "outputs": []
    },
    {
      "metadata": {
        "id": "fSNVOY3OaDIc",
        "colab_type": "code",
        "colab": {
          "base_uri": "https://localhost:8080/",
          "height": 35
        },
        "outputId": "7ab1faee-d13e-4342-ae11-8cb96856b74a"
      },
      "cell_type": "code",
      "source": [
        "# Batch N\n",
        "n = 5\n",
        "batch_size = 128\n",
        "batch = train_images[batch_size * n: batch_size * (n + 1)]\n",
        "print(batch.shape)"
      ],
      "execution_count": 18,
      "outputs": [
        {
          "output_type": "stream",
          "text": [
            "(128, 28, 28)\n"
          ],
          "name": "stdout"
        }
      ]
    },
    {
      "metadata": {
        "id": "XN7_ClueIU1P",
        "colab_type": "text"
      },
      "cell_type": "markdown",
      "source": [
        "###**Arquitectura inicial de Red Neuronal**"
      ]
    },
    {
      "metadata": {
        "id": "eJqobD7KIZyg",
        "colab_type": "code",
        "colab": {}
      },
      "cell_type": "code",
      "source": [
        "from keras import models\n",
        "from keras import layers\n",
        "network = models.Sequential()\n",
        "network.add(layers.Dense(512, activation='relu', input_shape=(28 * 28,)))\n",
        "network.add(layers.Dense(10, activation='softmax'))\n"
      ],
      "execution_count": 0,
      "outputs": []
    },
    {
      "metadata": {
        "id": "Wb-FoB1nImA7",
        "colab_type": "text"
      },
      "cell_type": "markdown",
      "source": [
        "Vamos a compilar el modelo"
      ]
    },
    {
      "metadata": {
        "id": "TXx5AdgqIzh0",
        "colab_type": "text"
      },
      "cell_type": "markdown",
      "source": [
        " A loss function—How the network will be able to measure its performance on the training data, and thus how it will be able to steer itself in the right direction.  Nos permite medir los errore generados\n",
        "\n",
        " An optimizer—The mechanism through which the network will update itself based on the data it sees and its loss function.\n",
        "\n",
        " Metrics to monitor during training and testing—Here, we’ll only care about accu- racy (the fraction of the images that were correctly classified)."
      ]
    },
    {
      "metadata": {
        "id": "ImteLzZzIdEH",
        "colab_type": "code",
        "colab": {}
      },
      "cell_type": "code",
      "source": [
        "network.compile(optimizer='rmsprop',\n",
        "                loss='categorical_crossentropy',\n",
        "                metrics=['accuracy'])\n"
      ],
      "execution_count": 0,
      "outputs": []
    },
    {
      "metadata": {
        "id": "Uv3aWAeSIjFK",
        "colab_type": "code",
        "colab": {}
      },
      "cell_type": "code",
      "source": [
        "train_images = train_images.reshape((60000, 28 * 28))\n",
        "train_images = train_images.astype('float32') / 255\n",
        "test_images = test_images.reshape((10000, 28 * 28))\n",
        "test_images = test_images.astype('float32') / 255\n"
      ],
      "execution_count": 0,
      "outputs": []
    },
    {
      "metadata": {
        "id": "tgQkUHGCLz2R",
        "colab_type": "code",
        "colab": {}
      },
      "cell_type": "code",
      "source": [
        "from keras.utils import to_categorical\n",
        "test_labels_bk = test_labels.copy()\n",
        "train_labels = to_categorical(train_labels)\n",
        "test_labels = to_categorical(test_labels)\n"
      ],
      "execution_count": 0,
      "outputs": []
    },
    {
      "metadata": {
        "id": "FkPcusUaL3k_",
        "colab_type": "code",
        "colab": {
          "base_uri": "https://localhost:8080/",
          "height": 224
        },
        "outputId": "7f0c998a-02e1-4aba-c9e2-1ff243cef472"
      },
      "cell_type": "code",
      "source": [
        "network.fit(train_images, train_labels, epochs=5, batch_size=128)"
      ],
      "execution_count": 23,
      "outputs": [
        {
          "output_type": "stream",
          "text": [
            "Epoch 1/5\n",
            "60000/60000 [==============================] - 5s 87us/step - loss: 0.2563 - acc: 0.9259\n",
            "Epoch 2/5\n",
            "60000/60000 [==============================] - 5s 85us/step - loss: 0.1052 - acc: 0.9684\n",
            "Epoch 3/5\n",
            "60000/60000 [==============================] - 5s 89us/step - loss: 0.0690 - acc: 0.9797\n",
            "Epoch 4/5\n",
            "60000/60000 [==============================] - 5s 90us/step - loss: 0.0503 - acc: 0.9849\n",
            "Epoch 5/5\n",
            " 6912/60000 [==>...........................] - ETA: 4s - loss: 0.0369 - acc: 0.9893"
          ],
          "name": "stdout"
        },
        {
          "output_type": "stream",
          "text": [
            "60000/60000 [==============================] - 5s 89us/step - loss: 0.0373 - acc: 0.9890\n"
          ],
          "name": "stdout"
        },
        {
          "output_type": "execute_result",
          "data": {
            "text/plain": [
              "<keras.callbacks.History at 0x7eff489f5cd0>"
            ]
          },
          "metadata": {
            "tags": []
          },
          "execution_count": 23
        }
      ]
    },
    {
      "metadata": {
        "id": "KxL2G-dQMdAR",
        "colab_type": "text"
      },
      "cell_type": "markdown",
      "source": [
        "Two quantities are displayed during training: the loss of the network over the training data, and the accuracy of the network over the training data"
      ]
    },
    {
      "metadata": {
        "id": "I7QMH05OMU-h",
        "colab_type": "code",
        "colab": {
          "base_uri": "https://localhost:8080/",
          "height": 51
        },
        "outputId": "0f1bede8-c02c-45b4-94b3-c7a8127558e2"
      },
      "cell_type": "code",
      "source": [
        "test_loss, test_acc = network.evaluate(test_images, test_labels)\n",
        "print('test_acc:', test_acc)"
      ],
      "execution_count": 24,
      "outputs": [
        {
          "output_type": "stream",
          "text": [
            "10000/10000 [==============================] - 1s 61us/step\n",
            "('test_acc:', 0.9789)\n"
          ],
          "name": "stdout"
        }
      ]
    },
    {
      "metadata": {
        "id": "C0TvLBz4MmZw",
        "colab_type": "code",
        "colab": {
          "base_uri": "https://localhost:8080/",
          "height": 272
        },
        "outputId": "5c4d2241-24a5-482b-f89a-b685ebfb83df"
      },
      "cell_type": "code",
      "source": [
        "from sklearn.metrics import confusion_matrix, classification_report, accuracy_score, roc_auc_score, f1_score\n",
        "predictions = network.predict_classes(test_images)\n",
        "pred_probs = network.predict_proba(test_images)\n",
        "\n",
        "\n",
        "print(\"\\nMatriz de confusion\")\n",
        "print(confusion_matrix(test_labels_bk, predictions, labels=range(0,10)))\n",
        "print(\"\\nAccuracy Score\")\n",
        "print(accuracy_score(test_labels_bk, predictions))"
      ],
      "execution_count": 25,
      "outputs": [
        {
          "output_type": "stream",
          "text": [
            "\n",
            "Matriz de confusion\n",
            "[[ 962    0    1    2    1    1    3    3    4    3]\n",
            " [   0 1124    2    1    0    1    2    2    3    0]\n",
            " [   0    4  991    3    1    0    2   15   14    2]\n",
            " [   0    0    1  994    0    3    0    6    2    4]\n",
            " [   1    0    3    1  962    0    3    2    1    9]\n",
            " [   2    0    0    8    2  862    5    2    7    4]\n",
            " [   1    3    0    2    6    4  939    0    3    0]\n",
            " [   0    0    4    3    1    0    0 1017    2    1]\n",
            " [   0    0    2    5    3    1    1    5  952    5]\n",
            " [   0    2    0    4    8    1    0    7    1  986]]\n",
            "\n",
            "Accuracy Score\n",
            "0.9789\n"
          ],
          "name": "stdout"
        }
      ]
    },
    {
      "metadata": {
        "id": "FT0pPnkcORqJ",
        "colab_type": "code",
        "colab": {}
      },
      "cell_type": "code",
      "source": [
        ""
      ],
      "execution_count": 0,
      "outputs": []
    },
    {
      "metadata": {
        "id": "wXA-CsT2RiPX",
        "colab_type": "code",
        "colab": {}
      },
      "cell_type": "code",
      "source": [
        ""
      ],
      "execution_count": 0,
      "outputs": []
    }
  ]
}